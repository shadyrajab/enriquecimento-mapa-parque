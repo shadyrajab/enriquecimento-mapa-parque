{
  "nbformat": 4,
  "nbformat_minor": 0,
  "metadata": {
    "colab": {
      "provenance": []
    },
    "kernelspec": {
      "name": "python3",
      "display_name": "Python 3"
    },
    "language_info": {
      "name": "python"
    }
  },
  "cells": [
    {
      "cell_type": "code",
      "source": [
        "!pip install python-dotenv"
      ],
      "metadata": {
        "id": "CGqYTj3cXdcX"
      },
      "execution_count": 2,
      "outputs": []
    },
    {
      "cell_type": "code",
      "execution_count": 10,
      "metadata": {
        "id": "9BC-jpaIVVGW"
      },
      "outputs": [],
      "source": [
        "from os import getenv\n",
        "import asyncio\n",
        "\n",
        "import pandas as pd\n",
        "import requests\n",
        "from dotenv import load_dotenv\n",
        "import time"
      ]
    },
    {
      "cell_type": "code",
      "source": [
        "load_dotenv()\n",
        "TOKEN = getenv('tokenEmpresas')"
      ],
      "metadata": {
        "id": "EFGJYJLRX7NN"
      },
      "execution_count": 11,
      "outputs": []
    },
    {
      "cell_type": "code",
      "source": [
        "df = pd.read_csv(\"/content/RelatorioInfoB2B_MapaParqueVisaoCliente_20240425094745.csv\", sep=';', encoding='latin-1', on_bad_lines='skip')\n",
        "df = df[df['TIPO_DOCUMENTO'] == \"CNPJ\"]"
      ],
      "metadata": {
        "id": "8EanuRcPVahV"
      },
      "execution_count": 12,
      "outputs": []
    },
    {
      "cell_type": "code",
      "source": [
        "df['NR_CNPJ'] = df['NR_CNPJ'].astype(str).str.zfill(14)"
      ],
      "metadata": {
        "id": "xDpVCCNZVdrC"
      },
      "execution_count": 13,
      "outputs": []
    },
    {
      "cell_type": "code",
      "source": [
        "cnpj_dados_nao_encontrados = []"
      ],
      "metadata": {
        "id": "Qym1EbwNZ8Ln"
      },
      "execution_count": 14,
      "outputs": []
    },
    {
      "cell_type": "code",
      "source": [
        "async def fetch_data_empresas(i, cnpj):\n",
        "  URL = f\"https://empresaqui.com.br/api/{TOKEN}/{cnpj}\"\n",
        "\n",
        "  response = requests.get(URL)\n",
        "  if response.status_code == 200:\n",
        "    try:\n",
        "      data = response.json()\n",
        "      df.at[i, 'uf'] = data.get('log_uf')\n",
        "      df.at[i, 'municipio'] = data.get('log_municipio')\n",
        "      df.at[i, 'cep'] = data.get('log_cep')\n",
        "      df.at[i, 'tipo endereco'] = data.get('log_tipo')\n",
        "      df.at[i, 'bairro'] = data.get('log_bairro')\n",
        "      df.at[i, 'ddd'] = data.get('ddd')\n",
        "\n",
        "      df.at[i, 'cnae'] = data.get('cnae_principal')\n",
        "      df.at[i, 'matriz'] = data.get('matriz')\n",
        "      df.at[i, 'natureza_juridica'] = data.get('natureza_juridica')\n",
        "      df.at[i, 'data_abertura'] = data.get('data_abertura')\n",
        "      df.at[i, 'data_sit_cad'] = data.get('data_sit_cad')\n",
        "\n",
        "      df.at[i, 'porte'] = data.get('porte')\n",
        "      df.at[i, 'capital_social'] = data.get('capital_social')\n",
        "      df.at[i, 'regime_tributario'] = data.get('regime_tributario')\n",
        "      df.at[i, 'faturamento'] = data.get('faturamento')\n",
        "      df.at[i, 'quadro_funcionarios'] = data.get('quadro_funcionarios')\n",
        "\n",
        "      print(\"sucesso\")\n",
        "\n",
        "    except:\n",
        "      cnpj_dados_nao_encontrados.append(cnpj)\n",
        "      print(\"deu erro\")\n",
        "\n",
        "  else:\n",
        "    cnpj_dados_nao_encontrados.append(cnpj)\n",
        "    print(\"deu ruim\")"
      ],
      "metadata": {
        "id": "sQ4RNmA7ezqa"
      },
      "execution_count": 15,
      "outputs": []
    },
    {
      "cell_type": "code",
      "source": [
        "async def main():\n",
        "    tasks = []\n",
        "    for i, row in df.iterrows():\n",
        "        cnpj = row['NR_CNPJ']\n",
        "        if cnpj in cnpj_dados_nao_encontrados:\n",
        "          tasks.append(asyncio.create_task(fetch_data_empresas(i, cnpj)))"
      ],
      "metadata": {
        "id": "tdtx2fG6akrp"
      },
      "execution_count": 22,
      "outputs": []
    },
    {
      "cell_type": "code",
      "source": [
        "start_time = time.time()\n",
        "await main()\n",
        "end_time = time.time()"
      ],
      "metadata": {
        "id": "EWR_OzcsfndD"
      },
      "execution_count": null,
      "outputs": []
    },
    {
      "cell_type": "code",
      "source": [
        "len(cnpj_dados_nao_encontrados)"
      ],
      "metadata": {
        "colab": {
          "base_uri": "https://localhost:8080/"
        },
        "id": "cZgCfF9-hIzc",
        "outputId": "4b6eee29-1b6e-4dda-8451-6d50af5acfc1"
      },
      "execution_count": 27,
      "outputs": [
        {
          "output_type": "execute_result",
          "data": {
            "text/plain": [
              "6242"
            ]
          },
          "metadata": {},
          "execution_count": 27
        }
      ]
    },
    {
      "cell_type": "code",
      "source": [
        "df.to_excel(\"atualizada2.xlsx\")"
      ],
      "metadata": {
        "id": "41DcamM3GXbl"
      },
      "execution_count": 28,
      "outputs": []
    }
  ]
}